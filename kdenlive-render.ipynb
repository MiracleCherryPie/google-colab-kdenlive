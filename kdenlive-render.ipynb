#@title colab-melt-render
#@markdown ###What's this?
#@markdown This is my jupyter notebook to help render Kdenlive project or any video editor project that uses melt to apply effects.
#@markdown ###But why?
#@markdown Well, you can use this to render your video inside Google Colab (or even inside headless server running jupyter server).
#@markdown ###Alright, what to do now?
#@markdown You can upload .mlt file and specify the location below (You need to change project path in melt in order to make it work)
import os
melt_file =  "/content/path/to/file.mlt" #@param {type:"string"}
#@markdown Replace /content/path/to/file.mlt with correct path to your melt file.

#@markdown Once you're done you can run this cell by click start button or press Ctrl+Enter to start render your melt project
print("Updating system")
os.system(f"apt update")
os.system(f"apt -yq upgrade")
print("Installing Kdenlive")
os.system(f"apt -yq install kdenlive ffmpeg xvfb")
print("Starting render process")
os.system(f"cp *.srt /tmp")
os.system(f"mkdir Videos/")
os.system(f"xvfb-run -- melt {melt_file}")
#@markdown Note: Google Colab still have [restrictions](https://research.google.com/colaboratory/faq.html#limitations-and-restrictions) and prioritized for machine learning purpose only. This notebook doesn't designed to render melt project with GPU.
