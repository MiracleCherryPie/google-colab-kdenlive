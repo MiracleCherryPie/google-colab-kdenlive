{
 "cells": [
  {
   "cell_type": "code",
   "execution_count": null,
   "metadata": {},
   "outputs": [],
   "source": [
    "#@title google-colab-kdenlive\n",
    "#@markdown ###What's this?\n",
    "#@markdown This is just an jupyter notebook to help render Kdenlive project or any video editor project that uses melt to apply effects.\n",
    "#@markdown ###But why?\n",
    "#@markdown Well, you can use this to render your video inside Google Colab (or even inside headless server running jupyter server).\n",
    "#@markdown ###Alright, what to do now?\n",
    "#@markdown You can upload .mlt file and specify the location below (You need to change project path in melt in order to make it work)\n",
    "import os\n",
    "melt_file =  \"/content/path/to/file.mlt\" #@param {type:\"string\"}\n",
    "#@markdown Replace /content/path/to/file.mlt with correct path to your melt file.\n",
    "\n",
    "#@markdown Once you're done you can run this cell by click start button or press Ctrl+Enter to start render your melt project\n",
    "print(\"Updating system\")\n",
    "os.system(f\"apt update\")\n",
    "os.system(f\"apt -yq upgrade\")\n",
    "print(\"Installing Kdenlive\")\n",
    "os.system(f\"apt -yq install kdenlive ffmpeg xvfb\")\n",
    "print(\"Starting render process\")\n",
    "os.system(f\"cp *.srt /tmp\")\n",
    "os.system(f\"mkdir Videos/\")\n",
    "os.system(f\"xvfb-run -- melt {melt_file}\")\n",
    "#@markdown Note: Google Colab still have [restrictions](https://research.google.com/colaboratory/faq.html#limitations-and-restrictions) and prioritized for machine learning purpose only. This notebook doesn't designed to render melt project with GPU."
   ]
  },
  {
   "cell_type": "code",
   "execution_count": null,
   "metadata": {},
   "outputs": [],
   "source": [
    "#@title FixAssist\n",
    "#@markdown If you got problem when encoding or rendering video (rendered video just show white background), this probably because melt trying to find any project file that's not exist in that path.\n",
    "#@markdown To fix it specify original location of your project (unedited video, background music, etc.) and melt file below\n",
    "import os\n",
    "project_folder = \"/home/nobody/Videos/path/to/project/folder\" #@param {type:\"string\"}\n",
    "melt_file = \"/content/path/to/file.mlt\" #@param {type:\"string\"}\n",
    "#@markdown in Windows it should be C:\\Users\\User\\Videos\\path\\to\\project\\folder\n",
    "os.system(f\"sed 's/{project_folder}//content//' {melt_file}\")"
   ]
  }
 ],
 "metadata": {
  "kernelspec": {
   "display_name": "Python 3",
   "language": "python",
   "name": "python3"
  },
  "language_info": {
   "codemirror_mode": {
    "name": "ipython",
    "version": 3
   },
   "file_extension": ".py",
   "mimetype": "text/x-python",
   "name": "python",
   "nbconvert_exporter": "python",
   "pygments_lexer": "ipython3",
   "version": "3.8.13"
  },
  "orig_nbformat": 4,
  "vscode": {
   "interpreter": {
    "hash": "110cc1dee26208153f2972f08a2ad52b6a56238dc66d48e87fb757ef2996db56"
   }
  }
 },
 "nbformat": 4,
 "nbformat_minor": 2
}
